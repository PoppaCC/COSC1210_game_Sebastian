{
 "cells": [
  {
   "cell_type": "code",
   "execution_count": 53,
   "id": "ed04c240",
   "metadata": {},
   "outputs": [
    {
     "ename": "ImportError",
     "evalue": "cannot import name 'draw_player' from 'adventure_function' (c:\\Users\\sebas\\OneDrive\\Documents\\GitHub\\COSC1210_game_Sebastian\\Misery\\adventure_function.py)",
     "output_type": "error",
     "traceback": [
      "\u001b[31m---------------------------------------------------------------------------\u001b[39m",
      "\u001b[31mImportError\u001b[39m                               Traceback (most recent call last)",
      "\u001b[36mCell\u001b[39m\u001b[36m \u001b[39m\u001b[32mIn[53]\u001b[39m\u001b[32m, line 3\u001b[39m\n\u001b[32m      1\u001b[39m \u001b[38;5;28;01mimport\u001b[39;00m\u001b[38;5;250m \u001b[39m\u001b[34;01mpygame\u001b[39;00m\n\u001b[32m      2\u001b[39m \u001b[38;5;28;01mimport\u001b[39;00m\u001b[38;5;250m \u001b[39m\u001b[34;01mConfig\u001b[39;00m\n\u001b[32m----> \u001b[39m\u001b[32m3\u001b[39m \u001b[38;5;28;01mfrom\u001b[39;00m\u001b[38;5;250m \u001b[39m\u001b[34;01madventure_function\u001b[39;00m\u001b[38;5;250m \u001b[39m\u001b[38;5;28;01mimport\u001b[39;00m (draw_room, load_player_image, draw_player, show_game_over)\n\u001b[32m      5\u001b[39m \u001b[38;5;28;01mdef\u001b[39;00m\u001b[38;5;250m \u001b[39m\u001b[34mmain\u001b[39m():\n\u001b[32m      6\u001b[39m     pygame.init()\n",
      "\u001b[31mImportError\u001b[39m: cannot import name 'draw_player' from 'adventure_function' (c:\\Users\\sebas\\OneDrive\\Documents\\GitHub\\COSC1210_game_Sebastian\\Misery\\adventure_function.py)"
     ]
    }
   ],
   "source": [
    "import pygame\n",
    "import Config\n",
    "from adventure_function import (draw_room, load_player_image, draw_player, show_game_over)\n",
    "\n",
    "def main():\n",
    "    pygame.init()\n",
    "    screen = pygame.display.set_mode((Config.WIDTH, Config.HEIGHT))\n",
    "    pygame.display.set_caption(\"3x3 Adventure Grid\")\n",
    "    clock = pygame.time.Clock()\n",
    "\n",
    "\n",
    "    # Load the sprite ONCE\n",
    "    load_player_image()\n",
    "\n",
    "    player_x = Config.WIDTH // 2\n",
    "    player_y = Config.HEIGHT // 2\n",
    "\n",
    "    running = True\n",
    "    while running:\n",
    "        dt = clock.tick(Config.FPS) / 1000.0\n",
    "\n",
    "        # Input\n",
    "        keys = pygame.key.get_pressed()\n",
    "        for event in pygame.event.get():\n",
    "            if keys[pygame.K_ESCAPE]:\n",
    "                running = False\n",
    "                show_game_over(screen)\n",
    "        \n",
    "        dx = dy = 0\n",
    "        if keys[pygame.K_LEFT] or keys[pygame.K_a]: dx = -1\n",
    "        if keys[pygame.K_RIGHT] or keys[pygame.K_d]: dx = 1\n",
    "        if keys[pygame.K_UP] or keys[pygame.K_w]: dy = -1\n",
    "        if keys[pygame.K_DOWN] or keys[pygame.K_s]: dy = 1\n",
    "        if dx != 0 and dy != 0:\n",
    "            dx *= 0.7071\n",
    "            dy *= 0.7071\n",
    "\n",
    "        new_x = player_x + dx * Config.PLAYER_SPEED * dt\n",
    "        new_y = player_y + dy * Config.PLAYER_SPEED * dt\n",
    "\n",
    "        # Movement with collision\n",
    "        #if not is_blocked(new_x, new_y):\n",
    "        player_x, player_y = new_x, new_y\n",
    "\n",
    "        # Draw everything\n",
    "        screen.fill(Config.BG_COLOR)\n",
    "\n",
    "        # Rooms/walls first\n",
    "        for row in range(Config.GRID_ROWS):\n",
    "            for col in range(Config.GRID_COLS):\n",
    "                draw_room(screen, row, col)\n",
    "\n",
    "         # Then the player\n",
    "        draw_player(screen, player_x, player_y)\n",
    "\n",
    "        pygame.display.flip()\n",
    "\n",
    "    pygame.quit()\n",
    "\n",
    "if __name__ == \"__main__\":\n",
    "    main()\n",
    "\n",
    "        \n",
    "\n"
   ]
  }
 ],
 "metadata": {
  "kernelspec": {
   "display_name": "Python 3",
   "language": "python",
   "name": "python3"
  },
  "language_info": {
   "codemirror_mode": {
    "name": "ipython",
    "version": 3
   },
   "file_extension": ".py",
   "mimetype": "text/x-python",
   "name": "python",
   "nbconvert_exporter": "python",
   "pygments_lexer": "ipython3",
   "version": "3.11.9"
  }
 },
 "nbformat": 4,
 "nbformat_minor": 5
}
